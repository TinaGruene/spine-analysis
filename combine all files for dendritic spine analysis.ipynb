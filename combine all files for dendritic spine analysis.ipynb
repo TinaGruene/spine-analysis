{
 "cells": [
  {
   "cell_type": "markdown",
   "metadata": {},
   "source": [
    "Designed to combine all neuronstudio dendritic spine analysis output files, saved as .txt (default output file type).\n",
    "It rename some important columns to make further analysis easier. Also, it adds a column for segment (animal number & neuron and segment number M10 N1S1 = Male \\#10, Neuron 1, dendritic segment 1), animal and neuron. This makes it later possible to group by animal or neuron depending on what analysis is performed. "
   ]
  },
  {
   "cell_type": "code",
   "execution_count": 1,
   "metadata": {
    "collapsed": true
   },
   "outputs": [],
   "source": [
    "import pandas as pd \n",
    "import os\n"
   ]
  },
  {
   "cell_type": "code",
   "execution_count": 2,
   "metadata": {
    "collapsed": true
   },
   "outputs": [],
   "source": [
    "#these functions will add animal and neuron/segment columns based on the 'segment' column (based on the filename)\n",
    "#this works if files are saved as '10_animalnumber neuronandsegmentnumber.filetype'. \n",
    "#If files are named differently these functions would have to be modified \n",
    "def get_animal(segment):\n",
    "    splt = str(segment).split(' ')[0]\n",
    "    animal = str(splt).split('_')[1]  #this step is needed because autoquant analysis adds 10_ to the beginning of each file name\n",
    "    return animal\n",
    "\n",
    "def get_neuron(segment):\n",
    "    splt = str(segment).split(' ')[1]\n",
    "    neuron = str(splt).split('.')[0]\n",
    "    return neuron\n",
    "\n",
    "column_names = {'SECTION-LENGTH' : 'section_length',\n",
    "               'HEAD-DIAMETER' :'head_diameter',\n",
    "                'NECK-DIAMETER' : 'neck_diameter'}  #can add more columns to rename"
   ]
  },
  {
   "cell_type": "code",
   "execution_count": 3,
   "metadata": {
    "collapsed": false
   },
   "outputs": [],
   "source": [
    "def combine_files(path):\n",
    "    filenames = os.listdir(path)   #list of filenames based on designated folder\n",
    "\n",
    "    df = pd.DataFrame()            #start with an empty data frame\n",
    "    for filename in sorted(filenames):\n",
    "        try:\n",
    "            read_filename = path + filename     #path for each file\n",
    "            temp = pd.read_csv(read_filename,delim_whitespace=True)  #reads in txt files, delim_whitespace important\n",
    "            temp['segment'] = filename                       #adds segment column based on the filename\n",
    "            frame = [df,temp]                #concatinates df and temp, results in only one header row \n",
    "            df = pd.concat(frame)\n",
    "        \n",
    "        except UnicodeDecodeError:\n",
    "            pass\n",
    "    df['animal'] = df.segment.apply(get_animal)   #adds animal column based on segment info\n",
    "    df['neuron'] = df.segment.apply(get_neuron) #adds neuron/segment column based on segment info\n",
    "    df.rename(columns=column_names, inplace=True) #renames a few important column names\n",
    "    return df    \n",
    "\n"
   ]
  },
  {
   "cell_type": "code",
   "execution_count": 4,
   "metadata": {
    "collapsed": true
   },
   "outputs": [],
   "source": [
    "#define path to txt files \n",
    "path_IS_DRN = 'C:/Users/tinag/Documents/spine analysis/M IS DRN/' #path for folder with txt files        \n",
    "df_IS_DRN = combine_files(path_IS_DRN)    #uses combine_files function to create new dataframe with all files combined\n",
    "df_IS_DRN.to_csv('M_IS_DRN.csv')    #saves dataframe as csv"
   ]
  },
  {
   "cell_type": "code",
   "execution_count": 5,
   "metadata": {
    "collapsed": false
   },
   "outputs": [],
   "source": [
    "path_ES_DRN = 'C:/Users/tinag/Documents/spine analysis/M ES DRN/'\n",
    "df_ES_DRN = combine_files(path_ES_DRN)\n",
    "df_ES_DRN.to_csv('M_ES_DRN.csv')"
   ]
  }
 ],
 "metadata": {
  "kernelspec": {
   "display_name": "Python [conda root]",
   "language": "python",
   "name": "conda-root-py"
  },
  "language_info": {
   "codemirror_mode": {
    "name": "ipython",
    "version": 3
   },
   "file_extension": ".py",
   "mimetype": "text/x-python",
   "name": "python",
   "nbconvert_exporter": "python",
   "pygments_lexer": "ipython3",
   "version": "3.5.2"
  }
 },
 "nbformat": 4,
 "nbformat_minor": 2
}
